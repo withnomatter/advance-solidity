{
 "cells": [
  {
   "cell_type": "code",
   "execution_count": null,
   "id": "1eb81237-e5fb-4636-a23a-94498f7eab77",
   "metadata": {},
   "outputs": [],
   "source": [
    "pragma solidity ^0.5.0;\n",
    "\n",
    "import \"./KaseiCoin.sol\";\n",
    "import \"https://github.com/OpenZeppelin/openzeppelin-contracts/blob/release-v2.5.0/contracts/crowdsale/Crowdsale.sol\";\n",
    "import \"https://github.com/OpenZeppelin/openzeppelin-contracts/blob/release-v2.5.0/contracts/crowdsale/emission/MintedCrowdsale.sol\";\n",
    "\n",
    "\n",
    "// Have the KaseiCoinCrowdsale contract inherit the following OpenZeppelin:\n",
    "// * Crowdsale\n",
    "// * MintedCrowdsale\n",
    "contract KaseiCoinCrowdsale is Crowdsale, MintedCrowdsale { \n",
    "    \n",
    "    // Provide parameters for all of the features of your crowdsale, such as the `rate`, `wallet` for fundraising, and `token`.\n",
    "    constructor(\n",
    "        uint rate,\n",
    "        address payable wallet,\n",
    "        KaseiCoin token\n",
    "    ) \n",
    "    Crowdsale(rate, wallet, token) \n",
    "    public      \n",
    "        // constructor can stay empty\n",
    "    {\n",
    "\n",
    "    }\n",
    "}\n",
    "    \n",
    "contract KaseiCoinCrowdsaledeveloper {\n",
    "    address public kasei_token_address;\n",
    "    address public kasei_crowdsale_address;\n",
    "\n",
    "\n",
    "    constructor(\n",
    "        string memory name,\n",
    "        string memory symbol,\n",
    "        address payable wallet\n",
    "    )\n",
    "\n",
    "    public \n",
    "    {\n",
    "        KaseiCoin token = new KaseiCoin(name, symbol, 0);\n",
    "        kasei_token_address = address(token);\n",
    "\n",
    "        KaseiCoinCrowdsale kasei_crowdsale =\n",
    "            new KaseiCoinCrowdsale(1, wallet, token);\n",
    "        kasei_crowdsale_address = address(kasei_crowdsale);\n",
    "        token.addMinter(kasei_crowdsale_address);\n",
    "        token.renounceMinter();\n",
    "    }\n",
    "}"
   ]
  }
 ],
 "metadata": {
  "kernelspec": {
   "display_name": "Python 3 (ipykernel)",
   "language": "python",
   "name": "python3"
  },
  "language_info": {
   "codemirror_mode": {
    "name": "ipython",
    "version": 3
   },
   "file_extension": ".py",
   "mimetype": "text/x-python",
   "name": "python",
   "nbconvert_exporter": "python",
   "pygments_lexer": "ipython3",
   "version": "3.7.11"
  }
 },
 "nbformat": 4,
 "nbformat_minor": 5
}
